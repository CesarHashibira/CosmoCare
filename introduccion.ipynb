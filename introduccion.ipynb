{
  "nbformat": 4,
  "nbformat_minor": 0,
  "metadata": {
    "colab": {
      "provenance": [],
      "authorship_tag": "ABX9TyNBpJE2Sk2d8Jmt9/MaKqiV",
      "include_colab_link": true
    },
    "kernelspec": {
      "name": "python3",
      "display_name": "Python 3"
    },
    "language_info": {
      "name": "python"
    }
  },
  "cells": [
    {
      "cell_type": "markdown",
      "metadata": {
        "id": "view-in-github",
        "colab_type": "text"
      },
      "source": [
        "<a href=\"https://colab.research.google.com/github/CesarHashibira/CosmoCare/blob/main/introduccion.ipynb\" target=\"_parent\"><img src=\"https://colab.research.google.com/assets/colab-badge.svg\" alt=\"Open In Colab\"/></a>"
      ]
    },
    {
      "cell_type": "code",
      "source": [
        "# pront: leer un archivo de texto llamado actitud_libro\n",
        "f = open ( 'prueba.txt' , 'r')\n",
        "mensaje = f.read ()\n",
        "print(\"mensaje\")\n",
        "f.close()"
      ],
      "metadata": {
        "colab": {
          "base_uri": "https://localhost:8080/"
        },
        "id": "I9ZH83TRHEc1",
        "outputId": "cc3f35c9-b81c-43f7-85ee-eb2571488f48"
      },
      "execution_count": 8,
      "outputs": [
        {
          "output_type": "stream",
          "name": "stdout",
          "text": [
            "mensaje\n"
          ]
        }
      ]
    },
    {
      "cell_type": "markdown",
      "source": [
        "leer datos de .txt"
      ],
      "metadata": {
        "id": "7dOXG2EBENsC"
      }
    },
    {
      "cell_type": "code",
      "source": [
        "Edad = 20\n",
        "if(Edad > 18):\n",
        "  print(\"Mayor de edad\")\n",
        "else:\n",
        "  print(\"Menor de edad\")"
      ],
      "metadata": {
        "colab": {
          "base_uri": "https://localhost:8080/"
        },
        "id": "ZiTRJkzUEWWK",
        "outputId": "4e84a9fa-f54b-4286-985f-7411c4bcfc1b"
      },
      "execution_count": 6,
      "outputs": [
        {
          "output_type": "stream",
          "name": "stdout",
          "text": [
            "Mayor de edad\n"
          ]
        }
      ]
    },
    {
      "cell_type": "markdown",
      "source": [
        "Imprimir un mensaje de variables de edad de mayor de 18 años"
      ],
      "metadata": {
        "id": "MTAntD2qEL2h"
      }
    },
    {
      "cell_type": "code",
      "execution_count": null,
      "metadata": {
        "id": "qkkq_21fBi-O"
      },
      "outputs": [],
      "source": []
    },
    {
      "cell_type": "code",
      "source": [
        "a = 20\n",
        "b = 25\n",
        "print(a+b)"
      ],
      "metadata": {
        "colab": {
          "base_uri": "https://localhost:8080/"
        },
        "id": "7E7ye7TdDTPY",
        "outputId": "1f65a2e7-0866-4b65-e577-c7e6954c55f5"
      },
      "execution_count": 3,
      "outputs": [
        {
          "output_type": "stream",
          "name": "stdout",
          "text": [
            "45\n"
          ]
        }
      ]
    },
    {
      "cell_type": "markdown",
      "source": [
        "sumar variables a y b"
      ],
      "metadata": {
        "id": "Sce-MQ77DQOJ"
      }
    },
    {
      "cell_type": "code",
      "source": [
        "x=5\n",
        "print (x)"
      ],
      "metadata": {
        "colab": {
          "base_uri": "https://localhost:8080/"
        },
        "id": "y1qEGqcUCxvn",
        "outputId": "6e046d22-8322-4f18-ae9b-39f0069e97d1"
      },
      "execution_count": 2,
      "outputs": [
        {
          "output_type": "stream",
          "name": "stdout",
          "text": [
            "5\n"
          ]
        }
      ]
    },
    {
      "cell_type": "markdown",
      "source": [
        "Crear una variable"
      ],
      "metadata": {
        "id": "GTpIH4swCwbh"
      }
    },
    {
      "cell_type": "code",
      "source": [
        "print(\"Hello word\")"
      ],
      "metadata": {
        "colab": {
          "base_uri": "https://localhost:8080/"
        },
        "id": "kKNrCebWB9tt",
        "outputId": "7f18b1a6-7e7c-43a6-9e81-aac139f1f974"
      },
      "execution_count": 1,
      "outputs": [
        {
          "output_type": "stream",
          "name": "stdout",
          "text": [
            "Hello word\n"
          ]
        }
      ]
    },
    {
      "cell_type": "markdown",
      "source": [
        "my primer programa por python."
      ],
      "metadata": {
        "id": "bKhUF2JfB56N"
      }
    }
  ]
}